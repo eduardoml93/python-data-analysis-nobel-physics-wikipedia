{
 "cells": [
  {
   "cell_type": "code",
   "execution_count": 1,
   "metadata": {},
   "outputs": [],
   "source": [
    "#//extrair dados do wikipedia de uma tabela dos nobeis de Física e mostrar em um dataframe\n",
    "\n",
    "\n",
    "import pandas as pd\n",
    "import numpy as np\n",
    "import matplotlib.pyplot as plt\n",
    "import seaborn as sns\n",
    "import requests\n",
    "import bs4 as BeautifulSoup\n",
    "import plotly.express as px\n",
    "from collections import Counter\n",
    "\n",
    "\n",
    "# In[2]:\n",
    "\n",
    "\n",
    "#extrair dados do wikipedia\n",
    "url = 'https://pt.wikipedia.org/wiki/Laureados_com_o_Nobel_de_Física'\n",
    "r = requests.get(url)\n",
    "df = pd.read_html(r.text)[0]\n",
    "\n"
   ]
  },
  {
   "cell_type": "code",
   "execution_count": 2,
   "metadata": {},
   "outputs": [
    {
     "data": {
      "text/html": [
       "<div>\n",
       "<style scoped>\n",
       "    .dataframe tbody tr th:only-of-type {\n",
       "        vertical-align: middle;\n",
       "    }\n",
       "\n",
       "    .dataframe tbody tr th {\n",
       "        vertical-align: top;\n",
       "    }\n",
       "\n",
       "    .dataframe thead th {\n",
       "        text-align: right;\n",
       "    }\n",
       "</style>\n",
       "<table border=\"1\" class=\"dataframe\">\n",
       "  <thead>\n",
       "    <tr style=\"text-align: right;\">\n",
       "      <th></th>\n",
       "      <th>Ano</th>\n",
       "      <th>Nº</th>\n",
       "      <th>Imagem</th>\n",
       "      <th>Laureado[nota 1]</th>\n",
       "      <th>País[nota 2]</th>\n",
       "      <th>Citação[nota 3]</th>\n",
       "    </tr>\n",
       "  </thead>\n",
       "  <tbody>\n",
       "    <tr>\n",
       "      <th>0</th>\n",
       "      <td>1901</td>\n",
       "      <td>1</td>\n",
       "      <td>NaN</td>\n",
       "      <td>Wilhelm Conrad Röntgen</td>\n",
       "      <td>Alemanha</td>\n",
       "      <td>\"em reconhecimento aos serviços extraordinário...</td>\n",
       "    </tr>\n",
       "    <tr>\n",
       "      <th>1</th>\n",
       "      <td>1902</td>\n",
       "      <td>2</td>\n",
       "      <td>NaN</td>\n",
       "      <td>Hendrik Lorentz</td>\n",
       "      <td>Países Baixos</td>\n",
       "      <td>\"em reconhecimento aos extraordinários serviço...</td>\n",
       "    </tr>\n",
       "    <tr>\n",
       "      <th>2</th>\n",
       "      <td>1902</td>\n",
       "      <td>3</td>\n",
       "      <td>NaN</td>\n",
       "      <td>Pieter Zeeman</td>\n",
       "      <td>Países Baixos</td>\n",
       "      <td>\"em reconhecimento aos extraordinários serviço...</td>\n",
       "    </tr>\n",
       "    <tr>\n",
       "      <th>3</th>\n",
       "      <td>1903</td>\n",
       "      <td>4</td>\n",
       "      <td>NaN</td>\n",
       "      <td>Antoine Henri Becquerel</td>\n",
       "      <td>França</td>\n",
       "      <td>\"pela sua descoberta da radioatividade espontâ...</td>\n",
       "    </tr>\n",
       "    <tr>\n",
       "      <th>4</th>\n",
       "      <td>1903</td>\n",
       "      <td>5</td>\n",
       "      <td>NaN</td>\n",
       "      <td>Pierre Curie</td>\n",
       "      <td>França</td>\n",
       "      <td>\"pelas suas pesquisas conjunta sobre o fenômen...</td>\n",
       "    </tr>\n",
       "    <tr>\n",
       "      <th>...</th>\n",
       "      <td>...</td>\n",
       "      <td>...</td>\n",
       "      <td>...</td>\n",
       "      <td>...</td>\n",
       "      <td>...</td>\n",
       "      <td>...</td>\n",
       "    </tr>\n",
       "    <tr>\n",
       "      <th>220</th>\n",
       "      <td>2020</td>\n",
       "      <td>215</td>\n",
       "      <td>NaN</td>\n",
       "      <td>Reinhard Genzel</td>\n",
       "      <td>Alemanha</td>\n",
       "      <td>\"pela descoberta de um objeto compacto superma...</td>\n",
       "    </tr>\n",
       "    <tr>\n",
       "      <th>221</th>\n",
       "      <td>2020</td>\n",
       "      <td>216</td>\n",
       "      <td>NaN</td>\n",
       "      <td>Andrea Ghez</td>\n",
       "      <td>Estados Unidos</td>\n",
       "      <td>\"pela descoberta de um objeto compacto superma...</td>\n",
       "    </tr>\n",
       "    <tr>\n",
       "      <th>222</th>\n",
       "      <td>2021</td>\n",
       "      <td>217</td>\n",
       "      <td>NaN</td>\n",
       "      <td>Syukuro Manabe</td>\n",
       "      <td>Japão</td>\n",
       "      <td>\"pela modelagem física do clima da Terra, quan...</td>\n",
       "    </tr>\n",
       "    <tr>\n",
       "      <th>223</th>\n",
       "      <td>2021</td>\n",
       "      <td>218</td>\n",
       "      <td>NaN</td>\n",
       "      <td>Klaus Hasselmann</td>\n",
       "      <td>Alemanha</td>\n",
       "      <td>\"pela modelagem física do clima da Terra, quan...</td>\n",
       "    </tr>\n",
       "    <tr>\n",
       "      <th>224</th>\n",
       "      <td>2021</td>\n",
       "      <td>219</td>\n",
       "      <td>NaN</td>\n",
       "      <td>Giorgio Parisi</td>\n",
       "      <td>Itália</td>\n",
       "      <td>\"pela descoberta da interação de desordem e fl...</td>\n",
       "    </tr>\n",
       "  </tbody>\n",
       "</table>\n",
       "<p>225 rows × 6 columns</p>\n",
       "</div>"
      ],
      "text/plain": [
       "      Ano   Nº Imagem         Laureado[nota 1]    País[nota 2]  \\\n",
       "0    1901    1    NaN   Wilhelm Conrad Röntgen        Alemanha   \n",
       "1    1902    2    NaN          Hendrik Lorentz   Países Baixos   \n",
       "2    1902    3    NaN            Pieter Zeeman   Países Baixos   \n",
       "3    1903    4    NaN  Antoine Henri Becquerel          França   \n",
       "4    1903    5    NaN             Pierre Curie          França   \n",
       "..    ...  ...    ...                      ...             ...   \n",
       "220  2020  215    NaN          Reinhard Genzel        Alemanha   \n",
       "221  2020  216    NaN              Andrea Ghez  Estados Unidos   \n",
       "222  2021  217    NaN           Syukuro Manabe           Japão   \n",
       "223  2021  218    NaN         Klaus Hasselmann        Alemanha   \n",
       "224  2021  219    NaN           Giorgio Parisi          Itália   \n",
       "\n",
       "                                       Citação[nota 3]  \n",
       "0    \"em reconhecimento aos serviços extraordinário...  \n",
       "1    \"em reconhecimento aos extraordinários serviço...  \n",
       "2    \"em reconhecimento aos extraordinários serviço...  \n",
       "3    \"pela sua descoberta da radioatividade espontâ...  \n",
       "4    \"pelas suas pesquisas conjunta sobre o fenômen...  \n",
       "..                                                 ...  \n",
       "220  \"pela descoberta de um objeto compacto superma...  \n",
       "221  \"pela descoberta de um objeto compacto superma...  \n",
       "222  \"pela modelagem física do clima da Terra, quan...  \n",
       "223  \"pela modelagem física do clima da Terra, quan...  \n",
       "224  \"pela descoberta da interação de desordem e fl...  \n",
       "\n",
       "[225 rows x 6 columns]"
      ]
     },
     "execution_count": 2,
     "metadata": {},
     "output_type": "execute_result"
    }
   ],
   "source": [
    "df"
   ]
  },
  {
   "cell_type": "code",
   "execution_count": 3,
   "metadata": {},
   "outputs": [],
   "source": [
    "#fazer o rename das colunas no df\n",
    "df.rename(columns={'Laureado[nota 1]': 'Laureados'}, inplace=True)\n",
    "df.rename(columns={'País[nota 2]': 'Países'}, inplace=True)\n",
    "df.rename(columns={'Citação[nota 3]': 'Citação'}, inplace=True)"
   ]
  },
  {
   "cell_type": "code",
   "execution_count": 4,
   "metadata": {},
   "outputs": [
    {
     "data": {
      "text/html": [
       "<div>\n",
       "<style scoped>\n",
       "    .dataframe tbody tr th:only-of-type {\n",
       "        vertical-align: middle;\n",
       "    }\n",
       "\n",
       "    .dataframe tbody tr th {\n",
       "        vertical-align: top;\n",
       "    }\n",
       "\n",
       "    .dataframe thead th {\n",
       "        text-align: right;\n",
       "    }\n",
       "</style>\n",
       "<table border=\"1\" class=\"dataframe\">\n",
       "  <thead>\n",
       "    <tr style=\"text-align: right;\">\n",
       "      <th></th>\n",
       "      <th>Ano</th>\n",
       "      <th>Nº</th>\n",
       "      <th>Imagem</th>\n",
       "      <th>Laureados</th>\n",
       "      <th>Citação</th>\n",
       "    </tr>\n",
       "    <tr>\n",
       "      <th>Países</th>\n",
       "      <th></th>\n",
       "      <th></th>\n",
       "      <th></th>\n",
       "      <th></th>\n",
       "      <th></th>\n",
       "    </tr>\n",
       "  </thead>\n",
       "  <tbody>\n",
       "    <tr>\n",
       "      <th>Alemanha</th>\n",
       "      <td>16</td>\n",
       "      <td>16</td>\n",
       "      <td>0</td>\n",
       "      <td>16</td>\n",
       "      <td>16</td>\n",
       "    </tr>\n",
       "    <tr>\n",
       "      <th>Alemanha Ocidental</th>\n",
       "      <td>9</td>\n",
       "      <td>9</td>\n",
       "      <td>0</td>\n",
       "      <td>9</td>\n",
       "      <td>9</td>\n",
       "    </tr>\n",
       "    <tr>\n",
       "      <th>Alemanha Suíça</th>\n",
       "      <td>1</td>\n",
       "      <td>1</td>\n",
       "      <td>0</td>\n",
       "      <td>1</td>\n",
       "      <td>1</td>\n",
       "    </tr>\n",
       "    <tr>\n",
       "      <th>Alemanha Áustria-Hungria</th>\n",
       "      <td>1</td>\n",
       "      <td>1</td>\n",
       "      <td>0</td>\n",
       "      <td>1</td>\n",
       "      <td>1</td>\n",
       "    </tr>\n",
       "    <tr>\n",
       "      <th>Austrália</th>\n",
       "      <td>1</td>\n",
       "      <td>1</td>\n",
       "      <td>0</td>\n",
       "      <td>1</td>\n",
       "      <td>1</td>\n",
       "    </tr>\n",
       "    <tr>\n",
       "      <th>Austrália Estados Unidos</th>\n",
       "      <td>1</td>\n",
       "      <td>1</td>\n",
       "      <td>0</td>\n",
       "      <td>1</td>\n",
       "      <td>1</td>\n",
       "    </tr>\n",
       "    <tr>\n",
       "      <th>Bélgica</th>\n",
       "      <td>1</td>\n",
       "      <td>1</td>\n",
       "      <td>0</td>\n",
       "      <td>1</td>\n",
       "      <td>1</td>\n",
       "    </tr>\n",
       "    <tr>\n",
       "      <th>Canadá</th>\n",
       "      <td>4</td>\n",
       "      <td>4</td>\n",
       "      <td>0</td>\n",
       "      <td>4</td>\n",
       "      <td>4</td>\n",
       "    </tr>\n",
       "    <tr>\n",
       "      <th>Canadá/ Estados Unidos</th>\n",
       "      <td>1</td>\n",
       "      <td>1</td>\n",
       "      <td>0</td>\n",
       "      <td>1</td>\n",
       "      <td>1</td>\n",
       "    </tr>\n",
       "    <tr>\n",
       "      <th>Canadá Estados Unidos</th>\n",
       "      <td>1</td>\n",
       "      <td>1</td>\n",
       "      <td>0</td>\n",
       "      <td>1</td>\n",
       "      <td>1</td>\n",
       "    </tr>\n",
       "    <tr>\n",
       "      <th>China Estados Unidos</th>\n",
       "      <td>2</td>\n",
       "      <td>2</td>\n",
       "      <td>0</td>\n",
       "      <td>2</td>\n",
       "      <td>2</td>\n",
       "    </tr>\n",
       "    <tr>\n",
       "      <th>China Reino Unido Estados Unidos</th>\n",
       "      <td>1</td>\n",
       "      <td>1</td>\n",
       "      <td>0</td>\n",
       "      <td>1</td>\n",
       "      <td>1</td>\n",
       "    </tr>\n",
       "    <tr>\n",
       "      <th>Dinamarca</th>\n",
       "      <td>3</td>\n",
       "      <td>3</td>\n",
       "      <td>0</td>\n",
       "      <td>3</td>\n",
       "      <td>3</td>\n",
       "    </tr>\n",
       "    <tr>\n",
       "      <th>Estados Unidos</th>\n",
       "      <td>82</td>\n",
       "      <td>82</td>\n",
       "      <td>0</td>\n",
       "      <td>82</td>\n",
       "      <td>82</td>\n",
       "    </tr>\n",
       "    <tr>\n",
       "      <th>Estados Unidos Noruega</th>\n",
       "      <td>1</td>\n",
       "      <td>1</td>\n",
       "      <td>0</td>\n",
       "      <td>1</td>\n",
       "      <td>1</td>\n",
       "    </tr>\n",
       "    <tr>\n",
       "      <th>Estados Unidos Índia</th>\n",
       "      <td>1</td>\n",
       "      <td>1</td>\n",
       "      <td>0</td>\n",
       "      <td>1</td>\n",
       "      <td>1</td>\n",
       "    </tr>\n",
       "    <tr>\n",
       "      <th>França</th>\n",
       "      <td>12</td>\n",
       "      <td>12</td>\n",
       "      <td>0</td>\n",
       "      <td>12</td>\n",
       "      <td>12</td>\n",
       "    </tr>\n",
       "    <tr>\n",
       "      <th>França (nascida na Polónia, na época da entrega do prêmio sob soberania russa, porém se naturalizou francesa)</th>\n",
       "      <td>1</td>\n",
       "      <td>1</td>\n",
       "      <td>0</td>\n",
       "      <td>1</td>\n",
       "      <td>1</td>\n",
       "    </tr>\n",
       "    <tr>\n",
       "      <th>França Polônia</th>\n",
       "      <td>1</td>\n",
       "      <td>1</td>\n",
       "      <td>0</td>\n",
       "      <td>1</td>\n",
       "      <td>1</td>\n",
       "    </tr>\n",
       "    <tr>\n",
       "      <th>Hungria Estados Unidos</th>\n",
       "      <td>1</td>\n",
       "      <td>1</td>\n",
       "      <td>0</td>\n",
       "      <td>1</td>\n",
       "      <td>1</td>\n",
       "    </tr>\n",
       "    <tr>\n",
       "      <th>Hungria Reino Unido</th>\n",
       "      <td>1</td>\n",
       "      <td>1</td>\n",
       "      <td>0</td>\n",
       "      <td>1</td>\n",
       "      <td>1</td>\n",
       "    </tr>\n",
       "    <tr>\n",
       "      <th>Irlanda</th>\n",
       "      <td>1</td>\n",
       "      <td>1</td>\n",
       "      <td>0</td>\n",
       "      <td>1</td>\n",
       "      <td>1</td>\n",
       "    </tr>\n",
       "    <tr>\n",
       "      <th>Itália</th>\n",
       "      <td>4</td>\n",
       "      <td>4</td>\n",
       "      <td>0</td>\n",
       "      <td>4</td>\n",
       "      <td>4</td>\n",
       "    </tr>\n",
       "    <tr>\n",
       "      <th>Itália Estados Unidos</th>\n",
       "      <td>2</td>\n",
       "      <td>2</td>\n",
       "      <td>0</td>\n",
       "      <td>2</td>\n",
       "      <td>2</td>\n",
       "    </tr>\n",
       "    <tr>\n",
       "      <th>Japão</th>\n",
       "      <td>11</td>\n",
       "      <td>11</td>\n",
       "      <td>0</td>\n",
       "      <td>11</td>\n",
       "      <td>11</td>\n",
       "    </tr>\n",
       "    <tr>\n",
       "      <th>Japão Estados Unidos</th>\n",
       "      <td>1</td>\n",
       "      <td>1</td>\n",
       "      <td>0</td>\n",
       "      <td>1</td>\n",
       "      <td>1</td>\n",
       "    </tr>\n",
       "    <tr>\n",
       "      <th>Não houve premiação</th>\n",
       "      <td>2</td>\n",
       "      <td>2</td>\n",
       "      <td>2</td>\n",
       "      <td>2</td>\n",
       "      <td>2</td>\n",
       "    </tr>\n",
       "    <tr>\n",
       "      <th>Não houve premiação (Primeira Guerra Mundial)</th>\n",
       "      <td>1</td>\n",
       "      <td>1</td>\n",
       "      <td>1</td>\n",
       "      <td>1</td>\n",
       "      <td>1</td>\n",
       "    </tr>\n",
       "    <tr>\n",
       "      <th>Não houve premiação (Segunda Guerra Mundial)</th>\n",
       "      <td>3</td>\n",
       "      <td>3</td>\n",
       "      <td>3</td>\n",
       "      <td>3</td>\n",
       "      <td>3</td>\n",
       "    </tr>\n",
       "    <tr>\n",
       "      <th>Paquistão</th>\n",
       "      <td>1</td>\n",
       "      <td>1</td>\n",
       "      <td>0</td>\n",
       "      <td>1</td>\n",
       "      <td>1</td>\n",
       "    </tr>\n",
       "    <tr>\n",
       "      <th>Países Baixos</th>\n",
       "      <td>8</td>\n",
       "      <td>8</td>\n",
       "      <td>0</td>\n",
       "      <td>8</td>\n",
       "      <td>8</td>\n",
       "    </tr>\n",
       "    <tr>\n",
       "      <th>Reino Unido</th>\n",
       "      <td>19</td>\n",
       "      <td>19</td>\n",
       "      <td>0</td>\n",
       "      <td>19</td>\n",
       "      <td>19</td>\n",
       "    </tr>\n",
       "    <tr>\n",
       "      <th>Reino Unido(nascido na Índia, na época da entrega do prêmio sob soberania britânica)</th>\n",
       "      <td>1</td>\n",
       "      <td>1</td>\n",
       "      <td>0</td>\n",
       "      <td>1</td>\n",
       "      <td>1</td>\n",
       "    </tr>\n",
       "    <tr>\n",
       "      <th>Reino Unido, Estados Unidos</th>\n",
       "      <td>3</td>\n",
       "      <td>3</td>\n",
       "      <td>0</td>\n",
       "      <td>3</td>\n",
       "      <td>3</td>\n",
       "    </tr>\n",
       "    <tr>\n",
       "      <th>Reino Unido Estados Unidos</th>\n",
       "      <td>1</td>\n",
       "      <td>1</td>\n",
       "      <td>0</td>\n",
       "      <td>1</td>\n",
       "      <td>1</td>\n",
       "    </tr>\n",
       "    <tr>\n",
       "      <th>Rússia</th>\n",
       "      <td>3</td>\n",
       "      <td>3</td>\n",
       "      <td>0</td>\n",
       "      <td>3</td>\n",
       "      <td>3</td>\n",
       "    </tr>\n",
       "    <tr>\n",
       "      <th>Rússia Países Baixos</th>\n",
       "      <td>1</td>\n",
       "      <td>1</td>\n",
       "      <td>0</td>\n",
       "      <td>1</td>\n",
       "      <td>1</td>\n",
       "    </tr>\n",
       "    <tr>\n",
       "      <th>Rússia Reino Unido</th>\n",
       "      <td>1</td>\n",
       "      <td>1</td>\n",
       "      <td>0</td>\n",
       "      <td>1</td>\n",
       "      <td>1</td>\n",
       "    </tr>\n",
       "    <tr>\n",
       "      <th>Suécia</th>\n",
       "      <td>4</td>\n",
       "      <td>4</td>\n",
       "      <td>0</td>\n",
       "      <td>4</td>\n",
       "      <td>4</td>\n",
       "    </tr>\n",
       "    <tr>\n",
       "      <th>Suíça</th>\n",
       "      <td>5</td>\n",
       "      <td>5</td>\n",
       "      <td>0</td>\n",
       "      <td>5</td>\n",
       "      <td>5</td>\n",
       "    </tr>\n",
       "    <tr>\n",
       "      <th>Suíça Estados Unidos</th>\n",
       "      <td>1</td>\n",
       "      <td>1</td>\n",
       "      <td>0</td>\n",
       "      <td>1</td>\n",
       "      <td>1</td>\n",
       "    </tr>\n",
       "    <tr>\n",
       "      <th>União Soviética</th>\n",
       "      <td>7</td>\n",
       "      <td>7</td>\n",
       "      <td>0</td>\n",
       "      <td>7</td>\n",
       "      <td>7</td>\n",
       "    </tr>\n",
       "    <tr>\n",
       "      <th>Áustria</th>\n",
       "      <td>3</td>\n",
       "      <td>3</td>\n",
       "      <td>0</td>\n",
       "      <td>3</td>\n",
       "      <td>3</td>\n",
       "    </tr>\n",
       "  </tbody>\n",
       "</table>\n",
       "</div>"
      ],
      "text/plain": [
       "                                                    Ano  Nº  Imagem  \\\n",
       "Países                                                                \n",
       "Alemanha                                             16  16       0   \n",
       "Alemanha Ocidental                                    9   9       0   \n",
       "Alemanha Suíça                                        1   1       0   \n",
       "Alemanha Áustria-Hungria                              1   1       0   \n",
       "Austrália                                             1   1       0   \n",
       "Austrália Estados Unidos                              1   1       0   \n",
       "Bélgica                                               1   1       0   \n",
       "Canadá                                                4   4       0   \n",
       "Canadá/ Estados Unidos                                1   1       0   \n",
       "Canadá Estados Unidos                                 1   1       0   \n",
       "China Estados Unidos                                  2   2       0   \n",
       "China Reino Unido Estados Unidos                      1   1       0   \n",
       "Dinamarca                                             3   3       0   \n",
       "Estados Unidos                                       82  82       0   \n",
       "Estados Unidos Noruega                                1   1       0   \n",
       "Estados Unidos Índia                                  1   1       0   \n",
       "França                                               12  12       0   \n",
       "França (nascida na Polónia, na época da entrega...    1   1       0   \n",
       "França Polônia                                        1   1       0   \n",
       "Hungria Estados Unidos                                1   1       0   \n",
       "Hungria Reino Unido                                   1   1       0   \n",
       "Irlanda                                               1   1       0   \n",
       "Itália                                                4   4       0   \n",
       "Itália Estados Unidos                                 2   2       0   \n",
       "Japão                                                11  11       0   \n",
       "Japão Estados Unidos                                  1   1       0   \n",
       "Não houve premiação                                   2   2       2   \n",
       "Não houve premiação (Primeira Guerra Mundial)         1   1       1   \n",
       "Não houve premiação (Segunda Guerra Mundial)          3   3       3   \n",
       "Paquistão                                             1   1       0   \n",
       "Países Baixos                                         8   8       0   \n",
       "Reino Unido                                          19  19       0   \n",
       "Reino Unido(nascido na Índia, na época da entre...    1   1       0   \n",
       "Reino Unido, Estados Unidos                           3   3       0   \n",
       "Reino Unido Estados Unidos                            1   1       0   \n",
       "Rússia                                                3   3       0   \n",
       "Rússia Países Baixos                                  1   1       0   \n",
       "Rússia Reino Unido                                    1   1       0   \n",
       "Suécia                                                4   4       0   \n",
       "Suíça                                                 5   5       0   \n",
       "Suíça Estados Unidos                                  1   1       0   \n",
       "União Soviética                                       7   7       0   \n",
       "Áustria                                               3   3       0   \n",
       "\n",
       "                                                    Laureados  Citação  \n",
       "Países                                                                  \n",
       "Alemanha                                                   16       16  \n",
       "Alemanha Ocidental                                          9        9  \n",
       "Alemanha Suíça                                              1        1  \n",
       "Alemanha Áustria-Hungria                                    1        1  \n",
       "Austrália                                                   1        1  \n",
       "Austrália Estados Unidos                                    1        1  \n",
       "Bélgica                                                     1        1  \n",
       "Canadá                                                      4        4  \n",
       "Canadá/ Estados Unidos                                      1        1  \n",
       "Canadá Estados Unidos                                       1        1  \n",
       "China Estados Unidos                                        2        2  \n",
       "China Reino Unido Estados Unidos                            1        1  \n",
       "Dinamarca                                                   3        3  \n",
       "Estados Unidos                                             82       82  \n",
       "Estados Unidos Noruega                                      1        1  \n",
       "Estados Unidos Índia                                        1        1  \n",
       "França                                                     12       12  \n",
       "França (nascida na Polónia, na época da entrega...          1        1  \n",
       "França Polônia                                              1        1  \n",
       "Hungria Estados Unidos                                      1        1  \n",
       "Hungria Reino Unido                                         1        1  \n",
       "Irlanda                                                     1        1  \n",
       "Itália                                                      4        4  \n",
       "Itália Estados Unidos                                       2        2  \n",
       "Japão                                                      11       11  \n",
       "Japão Estados Unidos                                        1        1  \n",
       "Não houve premiação                                         2        2  \n",
       "Não houve premiação (Primeira Guerra Mundial)               1        1  \n",
       "Não houve premiação (Segunda Guerra Mundial)                3        3  \n",
       "Paquistão                                                   1        1  \n",
       "Países Baixos                                               8        8  \n",
       "Reino Unido                                                19       19  \n",
       "Reino Unido(nascido na Índia, na época da entre...          1        1  \n",
       "Reino Unido, Estados Unidos                                 3        3  \n",
       "Reino Unido Estados Unidos                                  1        1  \n",
       "Rússia                                                      3        3  \n",
       "Rússia Países Baixos                                        1        1  \n",
       "Rússia Reino Unido                                          1        1  \n",
       "Suécia                                                      4        4  \n",
       "Suíça                                                       5        5  \n",
       "Suíça Estados Unidos                                        1        1  \n",
       "União Soviética                                             7        7  \n",
       "Áustria                                                     3        3  "
      ]
     },
     "execution_count": 4,
     "metadata": {},
     "output_type": "execute_result"
    }
   ],
   "source": [
    "#contagem por Países\n",
    "df.groupby('Países').count()"
   ]
  },
  {
   "cell_type": "code",
   "execution_count": 5,
   "metadata": {},
   "outputs": [
    {
     "data": {
      "text/html": [
       "<div>\n",
       "<style scoped>\n",
       "    .dataframe tbody tr th:only-of-type {\n",
       "        vertical-align: middle;\n",
       "    }\n",
       "\n",
       "    .dataframe tbody tr th {\n",
       "        vertical-align: top;\n",
       "    }\n",
       "\n",
       "    .dataframe thead th {\n",
       "        text-align: right;\n",
       "    }\n",
       "</style>\n",
       "<table border=\"1\" class=\"dataframe\">\n",
       "  <thead>\n",
       "    <tr style=\"text-align: right;\">\n",
       "      <th></th>\n",
       "      <th>Ano</th>\n",
       "      <th>Nº</th>\n",
       "      <th>Imagem</th>\n",
       "      <th>Laureados</th>\n",
       "      <th>Citação</th>\n",
       "    </tr>\n",
       "    <tr>\n",
       "      <th>Países</th>\n",
       "      <th></th>\n",
       "      <th></th>\n",
       "      <th></th>\n",
       "      <th></th>\n",
       "      <th></th>\n",
       "    </tr>\n",
       "  </thead>\n",
       "  <tbody>\n",
       "    <tr>\n",
       "      <th>Estados Unidos</th>\n",
       "      <td>82</td>\n",
       "      <td>82</td>\n",
       "      <td>0</td>\n",
       "      <td>82</td>\n",
       "      <td>82</td>\n",
       "    </tr>\n",
       "    <tr>\n",
       "      <th>Reino Unido</th>\n",
       "      <td>19</td>\n",
       "      <td>19</td>\n",
       "      <td>0</td>\n",
       "      <td>19</td>\n",
       "      <td>19</td>\n",
       "    </tr>\n",
       "    <tr>\n",
       "      <th>Alemanha</th>\n",
       "      <td>16</td>\n",
       "      <td>16</td>\n",
       "      <td>0</td>\n",
       "      <td>16</td>\n",
       "      <td>16</td>\n",
       "    </tr>\n",
       "    <tr>\n",
       "      <th>França</th>\n",
       "      <td>12</td>\n",
       "      <td>12</td>\n",
       "      <td>0</td>\n",
       "      <td>12</td>\n",
       "      <td>12</td>\n",
       "    </tr>\n",
       "    <tr>\n",
       "      <th>Japão</th>\n",
       "      <td>11</td>\n",
       "      <td>11</td>\n",
       "      <td>0</td>\n",
       "      <td>11</td>\n",
       "      <td>11</td>\n",
       "    </tr>\n",
       "    <tr>\n",
       "      <th>Alemanha Ocidental</th>\n",
       "      <td>9</td>\n",
       "      <td>9</td>\n",
       "      <td>0</td>\n",
       "      <td>9</td>\n",
       "      <td>9</td>\n",
       "    </tr>\n",
       "    <tr>\n",
       "      <th>Países Baixos</th>\n",
       "      <td>8</td>\n",
       "      <td>8</td>\n",
       "      <td>0</td>\n",
       "      <td>8</td>\n",
       "      <td>8</td>\n",
       "    </tr>\n",
       "    <tr>\n",
       "      <th>União Soviética</th>\n",
       "      <td>7</td>\n",
       "      <td>7</td>\n",
       "      <td>0</td>\n",
       "      <td>7</td>\n",
       "      <td>7</td>\n",
       "    </tr>\n",
       "    <tr>\n",
       "      <th>Suíça</th>\n",
       "      <td>5</td>\n",
       "      <td>5</td>\n",
       "      <td>0</td>\n",
       "      <td>5</td>\n",
       "      <td>5</td>\n",
       "    </tr>\n",
       "    <tr>\n",
       "      <th>Suécia</th>\n",
       "      <td>4</td>\n",
       "      <td>4</td>\n",
       "      <td>0</td>\n",
       "      <td>4</td>\n",
       "      <td>4</td>\n",
       "    </tr>\n",
       "  </tbody>\n",
       "</table>\n",
       "</div>"
      ],
      "text/plain": [
       "                    Ano  Nº  Imagem  Laureados  Citação\n",
       "Países                                                 \n",
       "Estados Unidos       82  82       0         82       82\n",
       "Reino Unido          19  19       0         19       19\n",
       "Alemanha             16  16       0         16       16\n",
       "França               12  12       0         12       12\n",
       "Japão                11  11       0         11       11\n",
       "Alemanha Ocidental    9   9       0          9        9\n",
       "Países Baixos         8   8       0          8        8\n",
       "União Soviética       7   7       0          7        7\n",
       "Suíça                 5   5       0          5        5\n",
       "Suécia                4   4       0          4        4"
      ]
     },
     "execution_count": 5,
     "metadata": {},
     "output_type": "execute_result"
    }
   ],
   "source": [
    "#os top 10 paises que tem mais laureados\n",
    "df.groupby('Países').count().sort_values(by='Laureados', ascending=False).head(10)\n",
    "\n"
   ]
  },
  {
   "cell_type": "code",
   "execution_count": 6,
   "metadata": {},
   "outputs": [],
   "source": [
    "dfpaises = df.groupby('Países').count().sort_values(by='Laureados', ascending=False).head(10)"
   ]
  },
  {
   "cell_type": "code",
   "execution_count": 7,
   "metadata": {},
   "outputs": [],
   "source": [
    "#dropar colunas desnecessárias Ano, Nº,\tImagem e Citação[nota 3]\n",
    "dfpaises = dfpaises.drop(['Ano', 'Nº', 'Imagem', 'Citação'], axis=1)\n",
    "\n"
   ]
  },
  {
   "cell_type": "code",
   "execution_count": 8,
   "metadata": {},
   "outputs": [
    {
     "data": {
      "text/html": [
       "<div>\n",
       "<style scoped>\n",
       "    .dataframe tbody tr th:only-of-type {\n",
       "        vertical-align: middle;\n",
       "    }\n",
       "\n",
       "    .dataframe tbody tr th {\n",
       "        vertical-align: top;\n",
       "    }\n",
       "\n",
       "    .dataframe thead th {\n",
       "        text-align: right;\n",
       "    }\n",
       "</style>\n",
       "<table border=\"1\" class=\"dataframe\">\n",
       "  <thead>\n",
       "    <tr style=\"text-align: right;\">\n",
       "      <th></th>\n",
       "      <th>Laureados</th>\n",
       "    </tr>\n",
       "    <tr>\n",
       "      <th>Países</th>\n",
       "      <th></th>\n",
       "    </tr>\n",
       "  </thead>\n",
       "  <tbody>\n",
       "    <tr>\n",
       "      <th>Estados Unidos</th>\n",
       "      <td>82</td>\n",
       "    </tr>\n",
       "    <tr>\n",
       "      <th>Reino Unido</th>\n",
       "      <td>19</td>\n",
       "    </tr>\n",
       "    <tr>\n",
       "      <th>Alemanha</th>\n",
       "      <td>16</td>\n",
       "    </tr>\n",
       "    <tr>\n",
       "      <th>França</th>\n",
       "      <td>12</td>\n",
       "    </tr>\n",
       "    <tr>\n",
       "      <th>Japão</th>\n",
       "      <td>11</td>\n",
       "    </tr>\n",
       "    <tr>\n",
       "      <th>Alemanha Ocidental</th>\n",
       "      <td>9</td>\n",
       "    </tr>\n",
       "    <tr>\n",
       "      <th>Países Baixos</th>\n",
       "      <td>8</td>\n",
       "    </tr>\n",
       "    <tr>\n",
       "      <th>União Soviética</th>\n",
       "      <td>7</td>\n",
       "    </tr>\n",
       "    <tr>\n",
       "      <th>Suíça</th>\n",
       "      <td>5</td>\n",
       "    </tr>\n",
       "    <tr>\n",
       "      <th>Suécia</th>\n",
       "      <td>4</td>\n",
       "    </tr>\n",
       "  </tbody>\n",
       "</table>\n",
       "</div>"
      ],
      "text/plain": [
       "                    Laureados\n",
       "Países                       \n",
       "Estados Unidos             82\n",
       "Reino Unido                19\n",
       "Alemanha                   16\n",
       "França                     12\n",
       "Japão                      11\n",
       "Alemanha Ocidental          9\n",
       "Países Baixos               8\n",
       "União Soviética             7\n",
       "Suíça                       5\n",
       "Suécia                      4"
      ]
     },
     "execution_count": 8,
     "metadata": {},
     "output_type": "execute_result"
    }
   ],
   "source": [
    "dfpaises"
   ]
  },
  {
   "cell_type": "code",
   "execution_count": 9,
   "metadata": {},
   "outputs": [
    {
     "name": "stdout",
     "output_type": "stream",
     "text": [
      "                    Laureados\n",
      "Países                       \n",
      "Estados Unidos             82\n",
      "Reino Unido                19\n",
      "Alemanha                   16\n",
      "França                     12\n",
      "Japão                      11\n",
      "Alemanha Ocidental          9\n",
      "Países Baixos               8\n",
      "União Soviética             7\n",
      "Suíça                       5\n",
      "Suécia                      4\n"
     ]
    }
   ],
   "source": [
    "print(dfpaises)"
   ]
  },
  {
   "cell_type": "code",
   "execution_count": 10,
   "metadata": {},
   "outputs": [
    {
     "data": {
      "application/vnd.plotly.v1+json": {
       "config": {
        "plotlyServerURL": "https://plot.ly"
       },
       "data": [
        {
         "alignmentgroup": "True",
         "hovertemplate": "Laureados=%{x}<br>Países=%{y}<extra></extra>",
         "legendgroup": "",
         "marker": {
          "color": "#636efa",
          "pattern": {
           "shape": ""
          }
         },
         "name": "",
         "offsetgroup": "",
         "orientation": "h",
         "showlegend": false,
         "textposition": "auto",
         "type": "bar",
         "x": [
          82,
          19,
          16,
          12,
          11,
          9,
          8,
          7,
          5,
          4
         ],
         "xaxis": "x",
         "y": [
          "Estados Unidos",
          "Reino Unido",
          "Alemanha",
          "França",
          "Japão",
          "Alemanha Ocidental",
          "Países Baixos",
          "União Soviética",
          "Suíça",
          "Suécia"
         ],
         "yaxis": "y"
        }
       ],
       "layout": {
        "barmode": "relative",
        "legend": {
         "tracegroupgap": 0
        },
        "margin": {
         "t": 60
        },
        "template": {
         "data": {
          "bar": [
           {
            "error_x": {
             "color": "#2a3f5f"
            },
            "error_y": {
             "color": "#2a3f5f"
            },
            "marker": {
             "line": {
              "color": "#E5ECF6",
              "width": 0.5
             },
             "pattern": {
              "fillmode": "overlay",
              "size": 10,
              "solidity": 0.2
             }
            },
            "type": "bar"
           }
          ],
          "barpolar": [
           {
            "marker": {
             "line": {
              "color": "#E5ECF6",
              "width": 0.5
             },
             "pattern": {
              "fillmode": "overlay",
              "size": 10,
              "solidity": 0.2
             }
            },
            "type": "barpolar"
           }
          ],
          "carpet": [
           {
            "aaxis": {
             "endlinecolor": "#2a3f5f",
             "gridcolor": "white",
             "linecolor": "white",
             "minorgridcolor": "white",
             "startlinecolor": "#2a3f5f"
            },
            "baxis": {
             "endlinecolor": "#2a3f5f",
             "gridcolor": "white",
             "linecolor": "white",
             "minorgridcolor": "white",
             "startlinecolor": "#2a3f5f"
            },
            "type": "carpet"
           }
          ],
          "choropleth": [
           {
            "colorbar": {
             "outlinewidth": 0,
             "ticks": ""
            },
            "type": "choropleth"
           }
          ],
          "contour": [
           {
            "colorbar": {
             "outlinewidth": 0,
             "ticks": ""
            },
            "colorscale": [
             [
              0,
              "#0d0887"
             ],
             [
              0.1111111111111111,
              "#46039f"
             ],
             [
              0.2222222222222222,
              "#7201a8"
             ],
             [
              0.3333333333333333,
              "#9c179e"
             ],
             [
              0.4444444444444444,
              "#bd3786"
             ],
             [
              0.5555555555555556,
              "#d8576b"
             ],
             [
              0.6666666666666666,
              "#ed7953"
             ],
             [
              0.7777777777777778,
              "#fb9f3a"
             ],
             [
              0.8888888888888888,
              "#fdca26"
             ],
             [
              1,
              "#f0f921"
             ]
            ],
            "type": "contour"
           }
          ],
          "contourcarpet": [
           {
            "colorbar": {
             "outlinewidth": 0,
             "ticks": ""
            },
            "type": "contourcarpet"
           }
          ],
          "heatmap": [
           {
            "colorbar": {
             "outlinewidth": 0,
             "ticks": ""
            },
            "colorscale": [
             [
              0,
              "#0d0887"
             ],
             [
              0.1111111111111111,
              "#46039f"
             ],
             [
              0.2222222222222222,
              "#7201a8"
             ],
             [
              0.3333333333333333,
              "#9c179e"
             ],
             [
              0.4444444444444444,
              "#bd3786"
             ],
             [
              0.5555555555555556,
              "#d8576b"
             ],
             [
              0.6666666666666666,
              "#ed7953"
             ],
             [
              0.7777777777777778,
              "#fb9f3a"
             ],
             [
              0.8888888888888888,
              "#fdca26"
             ],
             [
              1,
              "#f0f921"
             ]
            ],
            "type": "heatmap"
           }
          ],
          "heatmapgl": [
           {
            "colorbar": {
             "outlinewidth": 0,
             "ticks": ""
            },
            "colorscale": [
             [
              0,
              "#0d0887"
             ],
             [
              0.1111111111111111,
              "#46039f"
             ],
             [
              0.2222222222222222,
              "#7201a8"
             ],
             [
              0.3333333333333333,
              "#9c179e"
             ],
             [
              0.4444444444444444,
              "#bd3786"
             ],
             [
              0.5555555555555556,
              "#d8576b"
             ],
             [
              0.6666666666666666,
              "#ed7953"
             ],
             [
              0.7777777777777778,
              "#fb9f3a"
             ],
             [
              0.8888888888888888,
              "#fdca26"
             ],
             [
              1,
              "#f0f921"
             ]
            ],
            "type": "heatmapgl"
           }
          ],
          "histogram": [
           {
            "marker": {
             "pattern": {
              "fillmode": "overlay",
              "size": 10,
              "solidity": 0.2
             }
            },
            "type": "histogram"
           }
          ],
          "histogram2d": [
           {
            "colorbar": {
             "outlinewidth": 0,
             "ticks": ""
            },
            "colorscale": [
             [
              0,
              "#0d0887"
             ],
             [
              0.1111111111111111,
              "#46039f"
             ],
             [
              0.2222222222222222,
              "#7201a8"
             ],
             [
              0.3333333333333333,
              "#9c179e"
             ],
             [
              0.4444444444444444,
              "#bd3786"
             ],
             [
              0.5555555555555556,
              "#d8576b"
             ],
             [
              0.6666666666666666,
              "#ed7953"
             ],
             [
              0.7777777777777778,
              "#fb9f3a"
             ],
             [
              0.8888888888888888,
              "#fdca26"
             ],
             [
              1,
              "#f0f921"
             ]
            ],
            "type": "histogram2d"
           }
          ],
          "histogram2dcontour": [
           {
            "colorbar": {
             "outlinewidth": 0,
             "ticks": ""
            },
            "colorscale": [
             [
              0,
              "#0d0887"
             ],
             [
              0.1111111111111111,
              "#46039f"
             ],
             [
              0.2222222222222222,
              "#7201a8"
             ],
             [
              0.3333333333333333,
              "#9c179e"
             ],
             [
              0.4444444444444444,
              "#bd3786"
             ],
             [
              0.5555555555555556,
              "#d8576b"
             ],
             [
              0.6666666666666666,
              "#ed7953"
             ],
             [
              0.7777777777777778,
              "#fb9f3a"
             ],
             [
              0.8888888888888888,
              "#fdca26"
             ],
             [
              1,
              "#f0f921"
             ]
            ],
            "type": "histogram2dcontour"
           }
          ],
          "mesh3d": [
           {
            "colorbar": {
             "outlinewidth": 0,
             "ticks": ""
            },
            "type": "mesh3d"
           }
          ],
          "parcoords": [
           {
            "line": {
             "colorbar": {
              "outlinewidth": 0,
              "ticks": ""
             }
            },
            "type": "parcoords"
           }
          ],
          "pie": [
           {
            "automargin": true,
            "type": "pie"
           }
          ],
          "scatter": [
           {
            "fillpattern": {
             "fillmode": "overlay",
             "size": 10,
             "solidity": 0.2
            },
            "type": "scatter"
           }
          ],
          "scatter3d": [
           {
            "line": {
             "colorbar": {
              "outlinewidth": 0,
              "ticks": ""
             }
            },
            "marker": {
             "colorbar": {
              "outlinewidth": 0,
              "ticks": ""
             }
            },
            "type": "scatter3d"
           }
          ],
          "scattercarpet": [
           {
            "marker": {
             "colorbar": {
              "outlinewidth": 0,
              "ticks": ""
             }
            },
            "type": "scattercarpet"
           }
          ],
          "scattergeo": [
           {
            "marker": {
             "colorbar": {
              "outlinewidth": 0,
              "ticks": ""
             }
            },
            "type": "scattergeo"
           }
          ],
          "scattergl": [
           {
            "marker": {
             "colorbar": {
              "outlinewidth": 0,
              "ticks": ""
             }
            },
            "type": "scattergl"
           }
          ],
          "scattermapbox": [
           {
            "marker": {
             "colorbar": {
              "outlinewidth": 0,
              "ticks": ""
             }
            },
            "type": "scattermapbox"
           }
          ],
          "scatterpolar": [
           {
            "marker": {
             "colorbar": {
              "outlinewidth": 0,
              "ticks": ""
             }
            },
            "type": "scatterpolar"
           }
          ],
          "scatterpolargl": [
           {
            "marker": {
             "colorbar": {
              "outlinewidth": 0,
              "ticks": ""
             }
            },
            "type": "scatterpolargl"
           }
          ],
          "scatterternary": [
           {
            "marker": {
             "colorbar": {
              "outlinewidth": 0,
              "ticks": ""
             }
            },
            "type": "scatterternary"
           }
          ],
          "surface": [
           {
            "colorbar": {
             "outlinewidth": 0,
             "ticks": ""
            },
            "colorscale": [
             [
              0,
              "#0d0887"
             ],
             [
              0.1111111111111111,
              "#46039f"
             ],
             [
              0.2222222222222222,
              "#7201a8"
             ],
             [
              0.3333333333333333,
              "#9c179e"
             ],
             [
              0.4444444444444444,
              "#bd3786"
             ],
             [
              0.5555555555555556,
              "#d8576b"
             ],
             [
              0.6666666666666666,
              "#ed7953"
             ],
             [
              0.7777777777777778,
              "#fb9f3a"
             ],
             [
              0.8888888888888888,
              "#fdca26"
             ],
             [
              1,
              "#f0f921"
             ]
            ],
            "type": "surface"
           }
          ],
          "table": [
           {
            "cells": {
             "fill": {
              "color": "#EBF0F8"
             },
             "line": {
              "color": "white"
             }
            },
            "header": {
             "fill": {
              "color": "#C8D4E3"
             },
             "line": {
              "color": "white"
             }
            },
            "type": "table"
           }
          ]
         },
         "layout": {
          "annotationdefaults": {
           "arrowcolor": "#2a3f5f",
           "arrowhead": 0,
           "arrowwidth": 1
          },
          "autotypenumbers": "strict",
          "coloraxis": {
           "colorbar": {
            "outlinewidth": 0,
            "ticks": ""
           }
          },
          "colorscale": {
           "diverging": [
            [
             0,
             "#8e0152"
            ],
            [
             0.1,
             "#c51b7d"
            ],
            [
             0.2,
             "#de77ae"
            ],
            [
             0.3,
             "#f1b6da"
            ],
            [
             0.4,
             "#fde0ef"
            ],
            [
             0.5,
             "#f7f7f7"
            ],
            [
             0.6,
             "#e6f5d0"
            ],
            [
             0.7,
             "#b8e186"
            ],
            [
             0.8,
             "#7fbc41"
            ],
            [
             0.9,
             "#4d9221"
            ],
            [
             1,
             "#276419"
            ]
           ],
           "sequential": [
            [
             0,
             "#0d0887"
            ],
            [
             0.1111111111111111,
             "#46039f"
            ],
            [
             0.2222222222222222,
             "#7201a8"
            ],
            [
             0.3333333333333333,
             "#9c179e"
            ],
            [
             0.4444444444444444,
             "#bd3786"
            ],
            [
             0.5555555555555556,
             "#d8576b"
            ],
            [
             0.6666666666666666,
             "#ed7953"
            ],
            [
             0.7777777777777778,
             "#fb9f3a"
            ],
            [
             0.8888888888888888,
             "#fdca26"
            ],
            [
             1,
             "#f0f921"
            ]
           ],
           "sequentialminus": [
            [
             0,
             "#0d0887"
            ],
            [
             0.1111111111111111,
             "#46039f"
            ],
            [
             0.2222222222222222,
             "#7201a8"
            ],
            [
             0.3333333333333333,
             "#9c179e"
            ],
            [
             0.4444444444444444,
             "#bd3786"
            ],
            [
             0.5555555555555556,
             "#d8576b"
            ],
            [
             0.6666666666666666,
             "#ed7953"
            ],
            [
             0.7777777777777778,
             "#fb9f3a"
            ],
            [
             0.8888888888888888,
             "#fdca26"
            ],
            [
             1,
             "#f0f921"
            ]
           ]
          },
          "colorway": [
           "#636efa",
           "#EF553B",
           "#00cc96",
           "#ab63fa",
           "#FFA15A",
           "#19d3f3",
           "#FF6692",
           "#B6E880",
           "#FF97FF",
           "#FECB52"
          ],
          "font": {
           "color": "#2a3f5f"
          },
          "geo": {
           "bgcolor": "white",
           "lakecolor": "white",
           "landcolor": "#E5ECF6",
           "showlakes": true,
           "showland": true,
           "subunitcolor": "white"
          },
          "hoverlabel": {
           "align": "left"
          },
          "hovermode": "closest",
          "mapbox": {
           "style": "light"
          },
          "paper_bgcolor": "white",
          "plot_bgcolor": "#E5ECF6",
          "polar": {
           "angularaxis": {
            "gridcolor": "white",
            "linecolor": "white",
            "ticks": ""
           },
           "bgcolor": "#E5ECF6",
           "radialaxis": {
            "gridcolor": "white",
            "linecolor": "white",
            "ticks": ""
           }
          },
          "scene": {
           "xaxis": {
            "backgroundcolor": "#E5ECF6",
            "gridcolor": "white",
            "gridwidth": 2,
            "linecolor": "white",
            "showbackground": true,
            "ticks": "",
            "zerolinecolor": "white"
           },
           "yaxis": {
            "backgroundcolor": "#E5ECF6",
            "gridcolor": "white",
            "gridwidth": 2,
            "linecolor": "white",
            "showbackground": true,
            "ticks": "",
            "zerolinecolor": "white"
           },
           "zaxis": {
            "backgroundcolor": "#E5ECF6",
            "gridcolor": "white",
            "gridwidth": 2,
            "linecolor": "white",
            "showbackground": true,
            "ticks": "",
            "zerolinecolor": "white"
           }
          },
          "shapedefaults": {
           "line": {
            "color": "#2a3f5f"
           }
          },
          "ternary": {
           "aaxis": {
            "gridcolor": "white",
            "linecolor": "white",
            "ticks": ""
           },
           "baxis": {
            "gridcolor": "white",
            "linecolor": "white",
            "ticks": ""
           },
           "bgcolor": "#E5ECF6",
           "caxis": {
            "gridcolor": "white",
            "linecolor": "white",
            "ticks": ""
           }
          },
          "title": {
           "x": 0.05
          },
          "xaxis": {
           "automargin": true,
           "gridcolor": "white",
           "linecolor": "white",
           "ticks": "",
           "title": {
            "standoff": 15
           },
           "zerolinecolor": "white",
           "zerolinewidth": 2
          },
          "yaxis": {
           "automargin": true,
           "gridcolor": "white",
           "linecolor": "white",
           "ticks": "",
           "title": {
            "standoff": 15
           },
           "zerolinecolor": "white",
           "zerolinewidth": 2
          }
         }
        },
        "xaxis": {
         "anchor": "y",
         "domain": [
          0,
          1
         ],
         "title": {
          "text": "Laureados"
         }
        },
        "yaxis": {
         "anchor": "x",
         "domain": [
          0,
          1
         ],
         "title": {
          "text": "Países"
         }
        }
       }
      }
     },
     "metadata": {},
     "output_type": "display_data"
    }
   ],
   "source": [
    "#plot com o plotly dos 10 paises com mais laureados\n",
    "fig = px.bar(dfpaises, x=\"Laureados\")\n",
    "fig.show()\n"
   ]
  },
  {
   "cell_type": "code",
   "execution_count": 11,
   "metadata": {},
   "outputs": [
    {
     "data": {
      "text/plain": [
       "<AxesSubplot:ylabel='Países'>"
      ]
     },
     "execution_count": 11,
     "metadata": {},
     "output_type": "execute_result"
    },
    {
     "data": {
      "image/png": "[encoded data removed]",
      "text/plain": [
       "<Figure size 720x720 with 1 Axes>"
      ]
     },
     "metadata": {
      "needs_background": "light"
     },
     "output_type": "display_data"
    }
   ],
   "source": [
    "#plot das quantidades de paises\n",
    "dfpaises.plot.barh(figsize=(10,10))"
   ]
  },
  {
   "cell_type": "code",
   "execution_count": 12,
   "metadata": {},
   "outputs": [
    {
     "name": "stdout",
     "output_type": "stream",
     "text": [
      "Counter({'Ano': 1, 'Nº': 1, 'Imagem': 1, 'Laureados': 1, 'Países': 1, 'Citação': 1})\n"
     ]
    }
   ],
   "source": [
    "#laureados que foram premiados por mais de uma vez utilizando Counter\n",
    "print(Counter(df))"
   ]
  },
  {
   "cell_type": "code",
   "execution_count": 13,
   "metadata": {},
   "outputs": [],
   "source": [
    "#laureados que foram premiados por mais de uma vez\n",
    "Laureados = df.groupby('Laureados').count().sort_values(by='Laureados', ascending=False).head(10)\n"
   ]
  },
  {
   "cell_type": "code",
   "execution_count": 14,
   "metadata": {},
   "outputs": [
    {
     "data": {
      "text/html": [
       "<div>\n",
       "<style scoped>\n",
       "    .dataframe tbody tr th:only-of-type {\n",
       "        vertical-align: middle;\n",
       "    }\n",
       "\n",
       "    .dataframe tbody tr th {\n",
       "        vertical-align: top;\n",
       "    }\n",
       "\n",
       "    .dataframe thead th {\n",
       "        text-align: right;\n",
       "    }\n",
       "</style>\n",
       "<table border=\"1\" class=\"dataframe\">\n",
       "  <thead>\n",
       "    <tr style=\"text-align: right;\">\n",
       "      <th></th>\n",
       "      <th>Ano</th>\n",
       "      <th>Nº</th>\n",
       "      <th>Imagem</th>\n",
       "      <th>Laureados</th>\n",
       "      <th>Países</th>\n",
       "      <th>Citação</th>\n",
       "    </tr>\n",
       "  </thead>\n",
       "  <tbody>\n",
       "    <tr>\n",
       "      <th>0</th>\n",
       "      <td>1901</td>\n",
       "      <td>1</td>\n",
       "      <td>NaN</td>\n",
       "      <td>Wilhelm Conrad Röntgen</td>\n",
       "      <td>Alemanha</td>\n",
       "      <td>\"em reconhecimento aos serviços extraordinário...</td>\n",
       "    </tr>\n",
       "    <tr>\n",
       "      <th>1</th>\n",
       "      <td>1902</td>\n",
       "      <td>2</td>\n",
       "      <td>NaN</td>\n",
       "      <td>Hendrik Lorentz</td>\n",
       "      <td>Países Baixos</td>\n",
       "      <td>\"em reconhecimento aos extraordinários serviço...</td>\n",
       "    </tr>\n",
       "    <tr>\n",
       "      <th>2</th>\n",
       "      <td>1902</td>\n",
       "      <td>3</td>\n",
       "      <td>NaN</td>\n",
       "      <td>Pieter Zeeman</td>\n",
       "      <td>Países Baixos</td>\n",
       "      <td>\"em reconhecimento aos extraordinários serviço...</td>\n",
       "    </tr>\n",
       "    <tr>\n",
       "      <th>3</th>\n",
       "      <td>1903</td>\n",
       "      <td>4</td>\n",
       "      <td>NaN</td>\n",
       "      <td>Antoine Henri Becquerel</td>\n",
       "      <td>França</td>\n",
       "      <td>\"pela sua descoberta da radioatividade espontâ...</td>\n",
       "    </tr>\n",
       "    <tr>\n",
       "      <th>4</th>\n",
       "      <td>1903</td>\n",
       "      <td>5</td>\n",
       "      <td>NaN</td>\n",
       "      <td>Pierre Curie</td>\n",
       "      <td>França</td>\n",
       "      <td>\"pelas suas pesquisas conjunta sobre o fenômen...</td>\n",
       "    </tr>\n",
       "    <tr>\n",
       "      <th>...</th>\n",
       "      <td>...</td>\n",
       "      <td>...</td>\n",
       "      <td>...</td>\n",
       "      <td>...</td>\n",
       "      <td>...</td>\n",
       "      <td>...</td>\n",
       "    </tr>\n",
       "    <tr>\n",
       "      <th>220</th>\n",
       "      <td>2020</td>\n",
       "      <td>215</td>\n",
       "      <td>NaN</td>\n",
       "      <td>Reinhard Genzel</td>\n",
       "      <td>Alemanha</td>\n",
       "      <td>\"pela descoberta de um objeto compacto superma...</td>\n",
       "    </tr>\n",
       "    <tr>\n",
       "      <th>221</th>\n",
       "      <td>2020</td>\n",
       "      <td>216</td>\n",
       "      <td>NaN</td>\n",
       "      <td>Andrea Ghez</td>\n",
       "      <td>Estados Unidos</td>\n",
       "      <td>\"pela descoberta de um objeto compacto superma...</td>\n",
       "    </tr>\n",
       "    <tr>\n",
       "      <th>222</th>\n",
       "      <td>2021</td>\n",
       "      <td>217</td>\n",
       "      <td>NaN</td>\n",
       "      <td>Syukuro Manabe</td>\n",
       "      <td>Japão</td>\n",
       "      <td>\"pela modelagem física do clima da Terra, quan...</td>\n",
       "    </tr>\n",
       "    <tr>\n",
       "      <th>223</th>\n",
       "      <td>2021</td>\n",
       "      <td>218</td>\n",
       "      <td>NaN</td>\n",
       "      <td>Klaus Hasselmann</td>\n",
       "      <td>Alemanha</td>\n",
       "      <td>\"pela modelagem física do clima da Terra, quan...</td>\n",
       "    </tr>\n",
       "    <tr>\n",
       "      <th>224</th>\n",
       "      <td>2021</td>\n",
       "      <td>219</td>\n",
       "      <td>NaN</td>\n",
       "      <td>Giorgio Parisi</td>\n",
       "      <td>Itália</td>\n",
       "      <td>\"pela descoberta da interação de desordem e fl...</td>\n",
       "    </tr>\n",
       "  </tbody>\n",
       "</table>\n",
       "<p>225 rows × 6 columns</p>\n",
       "</div>"
      ],
      "text/plain": [
       "      Ano   Nº Imagem                Laureados          Países  \\\n",
       "0    1901    1    NaN   Wilhelm Conrad Röntgen        Alemanha   \n",
       "1    1902    2    NaN          Hendrik Lorentz   Países Baixos   \n",
       "2    1902    3    NaN            Pieter Zeeman   Países Baixos   \n",
       "3    1903    4    NaN  Antoine Henri Becquerel          França   \n",
       "4    1903    5    NaN             Pierre Curie          França   \n",
       "..    ...  ...    ...                      ...             ...   \n",
       "220  2020  215    NaN          Reinhard Genzel        Alemanha   \n",
       "221  2020  216    NaN              Andrea Ghez  Estados Unidos   \n",
       "222  2021  217    NaN           Syukuro Manabe           Japão   \n",
       "223  2021  218    NaN         Klaus Hasselmann        Alemanha   \n",
       "224  2021  219    NaN           Giorgio Parisi          Itália   \n",
       "\n",
       "                                               Citação  \n",
       "0    \"em reconhecimento aos serviços extraordinário...  \n",
       "1    \"em reconhecimento aos extraordinários serviço...  \n",
       "2    \"em reconhecimento aos extraordinários serviço...  \n",
       "3    \"pela sua descoberta da radioatividade espontâ...  \n",
       "4    \"pelas suas pesquisas conjunta sobre o fenômen...  \n",
       "..                                                 ...  \n",
       "220  \"pela descoberta de um objeto compacto superma...  \n",
       "221  \"pela descoberta de um objeto compacto superma...  \n",
       "222  \"pela modelagem física do clima da Terra, quan...  \n",
       "223  \"pela modelagem física do clima da Terra, quan...  \n",
       "224  \"pela descoberta da interação de desordem e fl...  \n",
       "\n",
       "[225 rows x 6 columns]"
      ]
     },
     "execution_count": 14,
     "metadata": {},
     "output_type": "execute_result"
    }
   ],
   "source": [
    "df"
   ]
  },
  {
   "cell_type": "code",
   "execution_count": 15,
   "metadata": {},
   "outputs": [
    {
     "data": {
      "text/html": [
       "<div>\n",
       "<style scoped>\n",
       "    .dataframe tbody tr th:only-of-type {\n",
       "        vertical-align: middle;\n",
       "    }\n",
       "\n",
       "    .dataframe tbody tr th {\n",
       "        vertical-align: top;\n",
       "    }\n",
       "\n",
       "    .dataframe thead th {\n",
       "        text-align: right;\n",
       "    }\n",
       "</style>\n",
       "<table border=\"1\" class=\"dataframe\">\n",
       "  <thead>\n",
       "    <tr style=\"text-align: right;\">\n",
       "      <th></th>\n",
       "      <th>Ano</th>\n",
       "      <th>Nº</th>\n",
       "      <th>Imagem</th>\n",
       "      <th>Laureados</th>\n",
       "      <th>Países</th>\n",
       "      <th>Citação</th>\n",
       "    </tr>\n",
       "  </thead>\n",
       "  <tbody>\n",
       "    <tr>\n",
       "      <th>195</th>\n",
       "      <td>2011</td>\n",
       "      <td>190</td>\n",
       "      <td>NaN</td>\n",
       "      <td>Saul Perlmutter</td>\n",
       "      <td>Estados Unidos</td>\n",
       "      <td>\"pela descoberta da expansão acelerada do univ...</td>\n",
       "    </tr>\n",
       "    <tr>\n",
       "      <th>196</th>\n",
       "      <td>2011</td>\n",
       "      <td>191</td>\n",
       "      <td>NaN</td>\n",
       "      <td>Brian Schmidt</td>\n",
       "      <td>Austrália Estados Unidos</td>\n",
       "      <td>\"pela descoberta da expansão acelerada do univ...</td>\n",
       "    </tr>\n",
       "    <tr>\n",
       "      <th>197</th>\n",
       "      <td>2011</td>\n",
       "      <td>192</td>\n",
       "      <td>NaN</td>\n",
       "      <td>Adam Riess</td>\n",
       "      <td>Estados Unidos</td>\n",
       "      <td>\"pela descoberta da expansão acelerada do univ...</td>\n",
       "    </tr>\n",
       "    <tr>\n",
       "      <th>198</th>\n",
       "      <td>2012</td>\n",
       "      <td>193</td>\n",
       "      <td>NaN</td>\n",
       "      <td>Serge Haroche</td>\n",
       "      <td>França</td>\n",
       "      <td>\"por métodos experimentais inovadores que perm...</td>\n",
       "    </tr>\n",
       "    <tr>\n",
       "      <th>199</th>\n",
       "      <td>2012</td>\n",
       "      <td>194</td>\n",
       "      <td>NaN</td>\n",
       "      <td>David Wineland</td>\n",
       "      <td>Estados Unidos</td>\n",
       "      <td>\"por métodos experimentais inovadores que perm...</td>\n",
       "    </tr>\n",
       "    <tr>\n",
       "      <th>200</th>\n",
       "      <td>2013</td>\n",
       "      <td>195</td>\n",
       "      <td>NaN</td>\n",
       "      <td>François Englert</td>\n",
       "      <td>Bélgica</td>\n",
       "      <td>\"pela descoberta do mecanismo que contribuiu p...</td>\n",
       "    </tr>\n",
       "    <tr>\n",
       "      <th>201</th>\n",
       "      <td>2013</td>\n",
       "      <td>196</td>\n",
       "      <td>NaN</td>\n",
       "      <td>Peter Higgs</td>\n",
       "      <td>Reino Unido</td>\n",
       "      <td>\"pela descoberta do mecanismo que contribuiu p...</td>\n",
       "    </tr>\n",
       "    <tr>\n",
       "      <th>202</th>\n",
       "      <td>2014</td>\n",
       "      <td>197</td>\n",
       "      <td>NaN</td>\n",
       "      <td>Isamu Akasaki</td>\n",
       "      <td>Japão</td>\n",
       "      <td>\"pela invenção de diodos azuis emissores de lu...</td>\n",
       "    </tr>\n",
       "    <tr>\n",
       "      <th>203</th>\n",
       "      <td>2014</td>\n",
       "      <td>198</td>\n",
       "      <td>NaN</td>\n",
       "      <td>Hiroshi Amano</td>\n",
       "      <td>Japão</td>\n",
       "      <td>\"pela invenção de diodos azuis emissores de lu...</td>\n",
       "    </tr>\n",
       "    <tr>\n",
       "      <th>204</th>\n",
       "      <td>2014</td>\n",
       "      <td>199</td>\n",
       "      <td>NaN</td>\n",
       "      <td>Shuji Nakamura</td>\n",
       "      <td>Japão</td>\n",
       "      <td>\"pela invenção de diodos azuis emissores de lu...</td>\n",
       "    </tr>\n",
       "    <tr>\n",
       "      <th>205</th>\n",
       "      <td>2015</td>\n",
       "      <td>200</td>\n",
       "      <td>NaN</td>\n",
       "      <td>Takaaki Kajita</td>\n",
       "      <td>Japão</td>\n",
       "      <td>\"pela descoberta das oscilações do neutrino, q...</td>\n",
       "    </tr>\n",
       "    <tr>\n",
       "      <th>206</th>\n",
       "      <td>2015</td>\n",
       "      <td>201</td>\n",
       "      <td>NaN</td>\n",
       "      <td>Arthur Bruce McDonald</td>\n",
       "      <td>Canadá</td>\n",
       "      <td>\"pela descoberta das oscilações do neutrino, q...</td>\n",
       "    </tr>\n",
       "    <tr>\n",
       "      <th>207</th>\n",
       "      <td>2016</td>\n",
       "      <td>202</td>\n",
       "      <td>NaN</td>\n",
       "      <td>Duncan Haldane</td>\n",
       "      <td>Reino Unido, Estados Unidos</td>\n",
       "      <td>\"por descobertas teóricas de transições topoló...</td>\n",
       "    </tr>\n",
       "    <tr>\n",
       "      <th>208</th>\n",
       "      <td>2016</td>\n",
       "      <td>203</td>\n",
       "      <td>NaN</td>\n",
       "      <td>David Thouless</td>\n",
       "      <td>Reino Unido, Estados Unidos</td>\n",
       "      <td>\"por descobertas teóricas de transições topoló...</td>\n",
       "    </tr>\n",
       "    <tr>\n",
       "      <th>209</th>\n",
       "      <td>2016</td>\n",
       "      <td>204</td>\n",
       "      <td>NaN</td>\n",
       "      <td>John Michael Kosterlitz</td>\n",
       "      <td>Reino Unido, Estados Unidos</td>\n",
       "      <td>\"por descobertas teóricas de transições topoló...</td>\n",
       "    </tr>\n",
       "    <tr>\n",
       "      <th>210</th>\n",
       "      <td>2017</td>\n",
       "      <td>205</td>\n",
       "      <td>NaN</td>\n",
       "      <td>Rainer Weiss</td>\n",
       "      <td>Estados Unidos</td>\n",
       "      <td>\"por contribuições decisivas para o detector L...</td>\n",
       "    </tr>\n",
       "    <tr>\n",
       "      <th>211</th>\n",
       "      <td>2017</td>\n",
       "      <td>206</td>\n",
       "      <td>NaN</td>\n",
       "      <td>Barry Barish</td>\n",
       "      <td>Estados Unidos</td>\n",
       "      <td>\"por contribuições decisivas para o detector L...</td>\n",
       "    </tr>\n",
       "    <tr>\n",
       "      <th>212</th>\n",
       "      <td>2017</td>\n",
       "      <td>207</td>\n",
       "      <td>NaN</td>\n",
       "      <td>Kip Thorne</td>\n",
       "      <td>Estados Unidos</td>\n",
       "      <td>\"por contribuições decisivas para o detector L...</td>\n",
       "    </tr>\n",
       "    <tr>\n",
       "      <th>213</th>\n",
       "      <td>2018</td>\n",
       "      <td>208</td>\n",
       "      <td>NaN</td>\n",
       "      <td>Arthur Ashkin</td>\n",
       "      <td>Estados Unidos</td>\n",
       "      <td>\"por invenções inovadoras no campo da física d...</td>\n",
       "    </tr>\n",
       "    <tr>\n",
       "      <th>214</th>\n",
       "      <td>2018</td>\n",
       "      <td>209</td>\n",
       "      <td>NaN</td>\n",
       "      <td>Gérard Mourou</td>\n",
       "      <td>França</td>\n",
       "      <td>\"por invenções inovadoras no campo da física d...</td>\n",
       "    </tr>\n",
       "    <tr>\n",
       "      <th>215</th>\n",
       "      <td>2018</td>\n",
       "      <td>210</td>\n",
       "      <td>NaN</td>\n",
       "      <td>Donna Strickland</td>\n",
       "      <td>Canadá</td>\n",
       "      <td>\"por invenções inovadoras no campo da física d...</td>\n",
       "    </tr>\n",
       "    <tr>\n",
       "      <th>216</th>\n",
       "      <td>2019</td>\n",
       "      <td>211</td>\n",
       "      <td>NaN</td>\n",
       "      <td>James Peebles</td>\n",
       "      <td>Canadá/ Estados Unidos</td>\n",
       "      <td>\"por descobertas teóricas em cosmologia física...</td>\n",
       "    </tr>\n",
       "    <tr>\n",
       "      <th>217</th>\n",
       "      <td>2019</td>\n",
       "      <td>212</td>\n",
       "      <td>NaN</td>\n",
       "      <td>Michel Mayor</td>\n",
       "      <td>Suíça</td>\n",
       "      <td>\"pela descoberta de um exoplaneta orbitando um...</td>\n",
       "    </tr>\n",
       "    <tr>\n",
       "      <th>218</th>\n",
       "      <td>2019</td>\n",
       "      <td>213</td>\n",
       "      <td>NaN</td>\n",
       "      <td>Didier Queloz</td>\n",
       "      <td>Suíça</td>\n",
       "      <td>\"pela descoberta de um exoplaneta orbitando um...</td>\n",
       "    </tr>\n",
       "    <tr>\n",
       "      <th>219</th>\n",
       "      <td>2020</td>\n",
       "      <td>214</td>\n",
       "      <td>NaN</td>\n",
       "      <td>Roger Penrose</td>\n",
       "      <td>Reino Unido</td>\n",
       "      <td>\"pela descoberta de que a formação de buracos ...</td>\n",
       "    </tr>\n",
       "    <tr>\n",
       "      <th>220</th>\n",
       "      <td>2020</td>\n",
       "      <td>215</td>\n",
       "      <td>NaN</td>\n",
       "      <td>Reinhard Genzel</td>\n",
       "      <td>Alemanha</td>\n",
       "      <td>\"pela descoberta de um objeto compacto superma...</td>\n",
       "    </tr>\n",
       "    <tr>\n",
       "      <th>221</th>\n",
       "      <td>2020</td>\n",
       "      <td>216</td>\n",
       "      <td>NaN</td>\n",
       "      <td>Andrea Ghez</td>\n",
       "      <td>Estados Unidos</td>\n",
       "      <td>\"pela descoberta de um objeto compacto superma...</td>\n",
       "    </tr>\n",
       "    <tr>\n",
       "      <th>222</th>\n",
       "      <td>2021</td>\n",
       "      <td>217</td>\n",
       "      <td>NaN</td>\n",
       "      <td>Syukuro Manabe</td>\n",
       "      <td>Japão</td>\n",
       "      <td>\"pela modelagem física do clima da Terra, quan...</td>\n",
       "    </tr>\n",
       "    <tr>\n",
       "      <th>223</th>\n",
       "      <td>2021</td>\n",
       "      <td>218</td>\n",
       "      <td>NaN</td>\n",
       "      <td>Klaus Hasselmann</td>\n",
       "      <td>Alemanha</td>\n",
       "      <td>\"pela modelagem física do clima da Terra, quan...</td>\n",
       "    </tr>\n",
       "    <tr>\n",
       "      <th>224</th>\n",
       "      <td>2021</td>\n",
       "      <td>219</td>\n",
       "      <td>NaN</td>\n",
       "      <td>Giorgio Parisi</td>\n",
       "      <td>Itália</td>\n",
       "      <td>\"pela descoberta da interação de desordem e fl...</td>\n",
       "    </tr>\n",
       "  </tbody>\n",
       "</table>\n",
       "</div>"
      ],
      "text/plain": [
       "      Ano   Nº Imagem                Laureados                       Países  \\\n",
       "195  2011  190    NaN          Saul Perlmutter               Estados Unidos   \n",
       "196  2011  191    NaN            Brian Schmidt     Austrália Estados Unidos   \n",
       "197  2011  192    NaN               Adam Riess               Estados Unidos   \n",
       "198  2012  193    NaN            Serge Haroche                       França   \n",
       "199  2012  194    NaN           David Wineland               Estados Unidos   \n",
       "200  2013  195    NaN         François Englert                      Bélgica   \n",
       "201  2013  196    NaN              Peter Higgs                  Reino Unido   \n",
       "202  2014  197    NaN            Isamu Akasaki                        Japão   \n",
       "203  2014  198    NaN            Hiroshi Amano                        Japão   \n",
       "204  2014  199    NaN           Shuji Nakamura                        Japão   \n",
       "205  2015  200    NaN           Takaaki Kajita                        Japão   \n",
       "206  2015  201    NaN    Arthur Bruce McDonald                       Canadá   \n",
       "207  2016  202    NaN           Duncan Haldane  Reino Unido, Estados Unidos   \n",
       "208  2016  203    NaN           David Thouless  Reino Unido, Estados Unidos   \n",
       "209  2016  204    NaN  John Michael Kosterlitz  Reino Unido, Estados Unidos   \n",
       "210  2017  205    NaN             Rainer Weiss               Estados Unidos   \n",
       "211  2017  206    NaN             Barry Barish               Estados Unidos   \n",
       "212  2017  207    NaN               Kip Thorne               Estados Unidos   \n",
       "213  2018  208    NaN            Arthur Ashkin               Estados Unidos   \n",
       "214  2018  209    NaN            Gérard Mourou                       França   \n",
       "215  2018  210    NaN         Donna Strickland                       Canadá   \n",
       "216  2019  211    NaN            James Peebles       Canadá/ Estados Unidos   \n",
       "217  2019  212    NaN             Michel Mayor                        Suíça   \n",
       "218  2019  213    NaN            Didier Queloz                        Suíça   \n",
       "219  2020  214    NaN            Roger Penrose                  Reino Unido   \n",
       "220  2020  215    NaN          Reinhard Genzel                     Alemanha   \n",
       "221  2020  216    NaN              Andrea Ghez               Estados Unidos   \n",
       "222  2021  217    NaN           Syukuro Manabe                        Japão   \n",
       "223  2021  218    NaN         Klaus Hasselmann                     Alemanha   \n",
       "224  2021  219    NaN           Giorgio Parisi                       Itália   \n",
       "\n",
       "                                               Citação  \n",
       "195  \"pela descoberta da expansão acelerada do univ...  \n",
       "196  \"pela descoberta da expansão acelerada do univ...  \n",
       "197  \"pela descoberta da expansão acelerada do univ...  \n",
       "198  \"por métodos experimentais inovadores que perm...  \n",
       "199  \"por métodos experimentais inovadores que perm...  \n",
       "200  \"pela descoberta do mecanismo que contribuiu p...  \n",
       "201  \"pela descoberta do mecanismo que contribuiu p...  \n",
       "202  \"pela invenção de diodos azuis emissores de lu...  \n",
       "203  \"pela invenção de diodos azuis emissores de lu...  \n",
       "204  \"pela invenção de diodos azuis emissores de lu...  \n",
       "205  \"pela descoberta das oscilações do neutrino, q...  \n",
       "206  \"pela descoberta das oscilações do neutrino, q...  \n",
       "207  \"por descobertas teóricas de transições topoló...  \n",
       "208  \"por descobertas teóricas de transições topoló...  \n",
       "209  \"por descobertas teóricas de transições topoló...  \n",
       "210  \"por contribuições decisivas para o detector L...  \n",
       "211  \"por contribuições decisivas para o detector L...  \n",
       "212  \"por contribuições decisivas para o detector L...  \n",
       "213  \"por invenções inovadoras no campo da física d...  \n",
       "214  \"por invenções inovadoras no campo da física d...  \n",
       "215  \"por invenções inovadoras no campo da física d...  \n",
       "216  \"por descobertas teóricas em cosmologia física...  \n",
       "217  \"pela descoberta de um exoplaneta orbitando um...  \n",
       "218  \"pela descoberta de um exoplaneta orbitando um...  \n",
       "219  \"pela descoberta de que a formação de buracos ...  \n",
       "220  \"pela descoberta de um objeto compacto superma...  \n",
       "221  \"pela descoberta de um objeto compacto superma...  \n",
       "222  \"pela modelagem física do clima da Terra, quan...  \n",
       "223  \"pela modelagem física do clima da Terra, quan...  \n",
       "224  \"pela descoberta da interação de desordem e fl...  "
      ]
     },
     "execution_count": 15,
     "metadata": {},
     "output_type": "execute_result"
    }
   ],
   "source": [
    "#os paises dos ultimos 10 anos antes de 2021\n",
    "\n",
    "df.tail(30)"
   ]
  },
  {
   "cell_type": "code",
   "execution_count": 16,
   "metadata": {},
   "outputs": [],
   "source": [
    "df2021 = df.tail(30)"
   ]
  },
  {
   "cell_type": "code",
   "execution_count": 17,
   "metadata": {},
   "outputs": [
    {
     "data": {
      "text/html": [
       "<div>\n",
       "<style scoped>\n",
       "    .dataframe tbody tr th:only-of-type {\n",
       "        vertical-align: middle;\n",
       "    }\n",
       "\n",
       "    .dataframe tbody tr th {\n",
       "        vertical-align: top;\n",
       "    }\n",
       "\n",
       "    .dataframe thead th {\n",
       "        text-align: right;\n",
       "    }\n",
       "</style>\n",
       "<table border=\"1\" class=\"dataframe\">\n",
       "  <thead>\n",
       "    <tr style=\"text-align: right;\">\n",
       "      <th></th>\n",
       "      <th>Ano</th>\n",
       "      <th>Nº</th>\n",
       "      <th>Imagem</th>\n",
       "      <th>Laureados</th>\n",
       "      <th>Citação</th>\n",
       "    </tr>\n",
       "    <tr>\n",
       "      <th>Países</th>\n",
       "      <th></th>\n",
       "      <th></th>\n",
       "      <th></th>\n",
       "      <th></th>\n",
       "      <th></th>\n",
       "    </tr>\n",
       "  </thead>\n",
       "  <tbody>\n",
       "    <tr>\n",
       "      <th>Estados Unidos</th>\n",
       "      <td>8</td>\n",
       "      <td>8</td>\n",
       "      <td>0</td>\n",
       "      <td>8</td>\n",
       "      <td>8</td>\n",
       "    </tr>\n",
       "    <tr>\n",
       "      <th>Japão</th>\n",
       "      <td>5</td>\n",
       "      <td>5</td>\n",
       "      <td>0</td>\n",
       "      <td>5</td>\n",
       "      <td>5</td>\n",
       "    </tr>\n",
       "    <tr>\n",
       "      <th>Reino Unido, Estados Unidos</th>\n",
       "      <td>3</td>\n",
       "      <td>3</td>\n",
       "      <td>0</td>\n",
       "      <td>3</td>\n",
       "      <td>3</td>\n",
       "    </tr>\n",
       "    <tr>\n",
       "      <th>Alemanha</th>\n",
       "      <td>2</td>\n",
       "      <td>2</td>\n",
       "      <td>0</td>\n",
       "      <td>2</td>\n",
       "      <td>2</td>\n",
       "    </tr>\n",
       "    <tr>\n",
       "      <th>Canadá</th>\n",
       "      <td>2</td>\n",
       "      <td>2</td>\n",
       "      <td>0</td>\n",
       "      <td>2</td>\n",
       "      <td>2</td>\n",
       "    </tr>\n",
       "    <tr>\n",
       "      <th>França</th>\n",
       "      <td>2</td>\n",
       "      <td>2</td>\n",
       "      <td>0</td>\n",
       "      <td>2</td>\n",
       "      <td>2</td>\n",
       "    </tr>\n",
       "    <tr>\n",
       "      <th>Reino Unido</th>\n",
       "      <td>2</td>\n",
       "      <td>2</td>\n",
       "      <td>0</td>\n",
       "      <td>2</td>\n",
       "      <td>2</td>\n",
       "    </tr>\n",
       "    <tr>\n",
       "      <th>Suíça</th>\n",
       "      <td>2</td>\n",
       "      <td>2</td>\n",
       "      <td>0</td>\n",
       "      <td>2</td>\n",
       "      <td>2</td>\n",
       "    </tr>\n",
       "    <tr>\n",
       "      <th>Austrália Estados Unidos</th>\n",
       "      <td>1</td>\n",
       "      <td>1</td>\n",
       "      <td>0</td>\n",
       "      <td>1</td>\n",
       "      <td>1</td>\n",
       "    </tr>\n",
       "    <tr>\n",
       "      <th>Bélgica</th>\n",
       "      <td>1</td>\n",
       "      <td>1</td>\n",
       "      <td>0</td>\n",
       "      <td>1</td>\n",
       "      <td>1</td>\n",
       "    </tr>\n",
       "    <tr>\n",
       "      <th>Canadá/ Estados Unidos</th>\n",
       "      <td>1</td>\n",
       "      <td>1</td>\n",
       "      <td>0</td>\n",
       "      <td>1</td>\n",
       "      <td>1</td>\n",
       "    </tr>\n",
       "    <tr>\n",
       "      <th>Itália</th>\n",
       "      <td>1</td>\n",
       "      <td>1</td>\n",
       "      <td>0</td>\n",
       "      <td>1</td>\n",
       "      <td>1</td>\n",
       "    </tr>\n",
       "  </tbody>\n",
       "</table>\n",
       "</div>"
      ],
      "text/plain": [
       "                             Ano  Nº  Imagem  Laureados  Citação\n",
       "Países                                                          \n",
       "Estados Unidos                 8   8       0          8        8\n",
       "Japão                          5   5       0          5        5\n",
       "Reino Unido, Estados Unidos    3   3       0          3        3\n",
       "Alemanha                       2   2       0          2        2\n",
       "Canadá                         2   2       0          2        2\n",
       "França                         2   2       0          2        2\n",
       "Reino Unido                    2   2       0          2        2\n",
       "Suíça                          2   2       0          2        2\n",
       "Austrália Estados Unidos       1   1       0          1        1\n",
       "Bélgica                        1   1       0          1        1\n",
       "Canadá/ Estados Unidos         1   1       0          1        1\n",
       "Itália                         1   1       0          1        1"
      ]
     },
     "execution_count": 17,
     "metadata": {},
     "output_type": "execute_result"
    }
   ],
   "source": [
    "df10 = df2021.groupby('Países').count().sort_values(by='Laureados', ascending=False)\n",
    "df10"
   ]
  },
  {
   "cell_type": "code",
   "execution_count": 18,
   "metadata": {},
   "outputs": [
    {
     "data": {
      "application/vnd.plotly.v1+json": {
       "config": {
        "plotlyServerURL": "https://plot.ly"
       },
       "data": [
        {
         "alignmentgroup": "True",
         "hovertemplate": "Laureados=%{x}<br>Países=%{y}<extra></extra>",
         "legendgroup": "",
         "marker": {
          "color": "#636efa",
          "pattern": {
           "shape": ""
          }
         },
         "name": "",
         "offsetgroup": "",
         "orientation": "h",
         "showlegend": false,
         "textposition": "auto",
         "type": "bar",
         "x": [
          8,
          5,
          3,
          2,
          2,
          2,
          2,
          2,
          1,
          1,
          1,
          1
         ],
         "xaxis": "x",
         "y": [
          "Estados Unidos",
          "Japão",
          "Reino Unido, Estados Unidos",
          "Alemanha",
          "Canadá",
          "França",
          "Reino Unido",
          "Suíça",
          "Austrália Estados Unidos",
          "Bélgica",
          "Canadá/ Estados Unidos",
          "Itália"
         ],
         "yaxis": "y"
        }
       ],
       "layout": {
        "barmode": "relative",
        "legend": {
         "tracegroupgap": 0
        },
        "margin": {
         "t": 60
        },
        "template": {
         "data": {
          "bar": [
           {
            "error_x": {
             "color": "#2a3f5f"
            },
            "error_y": {
             "color": "#2a3f5f"
            },
            "marker": {
             "line": {
              "color": "#E5ECF6",
              "width": 0.5
             },
             "pattern": {
              "fillmode": "overlay",
              "size": 10,
              "solidity": 0.2
             }
            },
            "type": "bar"
           }
          ],
          "barpolar": [
           {
            "marker": {
             "line": {
              "color": "#E5ECF6",
              "width": 0.5
             },
             "pattern": {
              "fillmode": "overlay",
              "size": 10,
              "solidity": 0.2
             }
            },
            "type": "barpolar"
           }
          ],
          "carpet": [
           {
            "aaxis": {
             "endlinecolor": "#2a3f5f",
             "gridcolor": "white",
             "linecolor": "white",
             "minorgridcolor": "white",
             "startlinecolor": "#2a3f5f"
            },
            "baxis": {
             "endlinecolor": "#2a3f5f",
             "gridcolor": "white",
             "linecolor": "white",
             "minorgridcolor": "white",
             "startlinecolor": "#2a3f5f"
            },
            "type": "carpet"
           }
          ],
          "choropleth": [
           {
            "colorbar": {
             "outlinewidth": 0,
             "ticks": ""
            },
            "type": "choropleth"
           }
          ],
          "contour": [
           {
            "colorbar": {
             "outlinewidth": 0,
             "ticks": ""
            },
            "colorscale": [
             [
              0,
              "#0d0887"
             ],
             [
              0.1111111111111111,
              "#46039f"
             ],
             [
              0.2222222222222222,
              "#7201a8"
             ],
             [
              0.3333333333333333,
              "#9c179e"
             ],
             [
              0.4444444444444444,
              "#bd3786"
             ],
             [
              0.5555555555555556,
              "#d8576b"
             ],
             [
              0.6666666666666666,
              "#ed7953"
             ],
             [
              0.7777777777777778,
              "#fb9f3a"
             ],
             [
              0.8888888888888888,
              "#fdca26"
             ],
             [
              1,
              "#f0f921"
             ]
            ],
            "type": "contour"
           }
          ],
          "contourcarpet": [
           {
            "colorbar": {
             "outlinewidth": 0,
             "ticks": ""
            },
            "type": "contourcarpet"
           }
          ],
          "heatmap": [
           {
            "colorbar": {
             "outlinewidth": 0,
             "ticks": ""
            },
            "colorscale": [
             [
              0,
              "#0d0887"
             ],
             [
              0.1111111111111111,
              "#46039f"
             ],
             [
              0.2222222222222222,
              "#7201a8"
             ],
             [
              0.3333333333333333,
              "#9c179e"
             ],
             [
              0.4444444444444444,
              "#bd3786"
             ],
             [
              0.5555555555555556,
              "#d8576b"
             ],
             [
              0.6666666666666666,
              "#ed7953"
             ],
             [
              0.7777777777777778,
              "#fb9f3a"
             ],
             [
              0.8888888888888888,
              "#fdca26"
             ],
             [
              1,
              "#f0f921"
             ]
            ],
            "type": "heatmap"
           }
          ],
          "heatmapgl": [
           {
            "colorbar": {
             "outlinewidth": 0,
             "ticks": ""
            },
            "colorscale": [
             [
              0,
              "#0d0887"
             ],
             [
              0.1111111111111111,
              "#46039f"
             ],
             [
              0.2222222222222222,
              "#7201a8"
             ],
             [
              0.3333333333333333,
              "#9c179e"
             ],
             [
              0.4444444444444444,
              "#bd3786"
             ],
             [
              0.5555555555555556,
              "#d8576b"
             ],
             [
              0.6666666666666666,
              "#ed7953"
             ],
             [
              0.7777777777777778,
              "#fb9f3a"
             ],
             [
              0.8888888888888888,
              "#fdca26"
             ],
             [
              1,
              "#f0f921"
             ]
            ],
            "type": "heatmapgl"
           }
          ],
          "histogram": [
           {
            "marker": {
             "pattern": {
              "fillmode": "overlay",
              "size": 10,
              "solidity": 0.2
             }
            },
            "type": "histogram"
           }
          ],
          "histogram2d": [
           {
            "colorbar": {
             "outlinewidth": 0,
             "ticks": ""
            },
            "colorscale": [
             [
              0,
              "#0d0887"
             ],
             [
              0.1111111111111111,
              "#46039f"
             ],
             [
              0.2222222222222222,
              "#7201a8"
             ],
             [
              0.3333333333333333,
              "#9c179e"
             ],
             [
              0.4444444444444444,
              "#bd3786"
             ],
             [
              0.5555555555555556,
              "#d8576b"
             ],
             [
              0.6666666666666666,
              "#ed7953"
             ],
             [
              0.7777777777777778,
              "#fb9f3a"
             ],
             [
              0.8888888888888888,
              "#fdca26"
             ],
             [
              1,
              "#f0f921"
             ]
            ],
            "type": "histogram2d"
           }
          ],
          "histogram2dcontour": [
           {
            "colorbar": {
             "outlinewidth": 0,
             "ticks": ""
            },
            "colorscale": [
             [
              0,
              "#0d0887"
             ],
             [
              0.1111111111111111,
              "#46039f"
             ],
             [
              0.2222222222222222,
              "#7201a8"
             ],
             [
              0.3333333333333333,
              "#9c179e"
             ],
             [
              0.4444444444444444,
              "#bd3786"
             ],
             [
              0.5555555555555556,
              "#d8576b"
             ],
             [
              0.6666666666666666,
              "#ed7953"
             ],
             [
              0.7777777777777778,
              "#fb9f3a"
             ],
             [
              0.8888888888888888,
              "#fdca26"
             ],
             [
              1,
              "#f0f921"
             ]
            ],
            "type": "histogram2dcontour"
           }
          ],
          "mesh3d": [
           {
            "colorbar": {
             "outlinewidth": 0,
             "ticks": ""
            },
            "type": "mesh3d"
           }
          ],
          "parcoords": [
           {
            "line": {
             "colorbar": {
              "outlinewidth": 0,
              "ticks": ""
             }
            },
            "type": "parcoords"
           }
          ],
          "pie": [
           {
            "automargin": true,
            "type": "pie"
           }
          ],
          "scatter": [
           {
            "fillpattern": {
             "fillmode": "overlay",
             "size": 10,
             "solidity": 0.2
            },
            "type": "scatter"
           }
          ],
          "scatter3d": [
           {
            "line": {
             "colorbar": {
              "outlinewidth": 0,
              "ticks": ""
             }
            },
            "marker": {
             "colorbar": {
              "outlinewidth": 0,
              "ticks": ""
             }
            },
            "type": "scatter3d"
           }
          ],
          "scattercarpet": [
           {
            "marker": {
             "colorbar": {
              "outlinewidth": 0,
              "ticks": ""
             }
            },
            "type": "scattercarpet"
           }
          ],
          "scattergeo": [
           {
            "marker": {
             "colorbar": {
              "outlinewidth": 0,
              "ticks": ""
             }
            },
            "type": "scattergeo"
           }
          ],
          "scattergl": [
           {
            "marker": {
             "colorbar": {
              "outlinewidth": 0,
              "ticks": ""
             }
            },
            "type": "scattergl"
           }
          ],
          "scattermapbox": [
           {
            "marker": {
             "colorbar": {
              "outlinewidth": 0,
              "ticks": ""
             }
            },
            "type": "scattermapbox"
           }
          ],
          "scatterpolar": [
           {
            "marker": {
             "colorbar": {
              "outlinewidth": 0,
              "ticks": ""
             }
            },
            "type": "scatterpolar"
           }
          ],
          "scatterpolargl": [
           {
            "marker": {
             "colorbar": {
              "outlinewidth": 0,
              "ticks": ""
             }
            },
            "type": "scatterpolargl"
           }
          ],
          "scatterternary": [
           {
            "marker": {
             "colorbar": {
              "outlinewidth": 0,
              "ticks": ""
             }
            },
            "type": "scatterternary"
           }
          ],
          "surface": [
           {
            "colorbar": {
             "outlinewidth": 0,
             "ticks": ""
            },
            "colorscale": [
             [
              0,
              "#0d0887"
             ],
             [
              0.1111111111111111,
              "#46039f"
             ],
             [
              0.2222222222222222,
              "#7201a8"
             ],
             [
              0.3333333333333333,
              "#9c179e"
             ],
             [
              0.4444444444444444,
              "#bd3786"
             ],
             [
              0.5555555555555556,
              "#d8576b"
             ],
             [
              0.6666666666666666,
              "#ed7953"
             ],
             [
              0.7777777777777778,
              "#fb9f3a"
             ],
             [
              0.8888888888888888,
              "#fdca26"
             ],
             [
              1,
              "#f0f921"
             ]
            ],
            "type": "surface"
           }
          ],
          "table": [
           {
            "cells": {
             "fill": {
              "color": "#EBF0F8"
             },
             "line": {
              "color": "white"
             }
            },
            "header": {
             "fill": {
              "color": "#C8D4E3"
             },
             "line": {
              "color": "white"
             }
            },
            "type": "table"
           }
          ]
         },
         "layout": {
          "annotationdefaults": {
           "arrowcolor": "#2a3f5f",
           "arrowhead": 0,
           "arrowwidth": 1
          },
          "autotypenumbers": "strict",
          "coloraxis": {
           "colorbar": {
            "outlinewidth": 0,
            "ticks": ""
           }
          },
          "colorscale": {
           "diverging": [
            [
             0,
             "#8e0152"
            ],
            [
             0.1,
             "#c51b7d"
            ],
            [
             0.2,
             "#de77ae"
            ],
            [
             0.3,
             "#f1b6da"
            ],
            [
             0.4,
             "#fde0ef"
            ],
            [
             0.5,
             "#f7f7f7"
            ],
            [
             0.6,
             "#e6f5d0"
            ],
            [
             0.7,
             "#b8e186"
            ],
            [
             0.8,
             "#7fbc41"
            ],
            [
             0.9,
             "#4d9221"
            ],
            [
             1,
             "#276419"
            ]
           ],
           "sequential": [
            [
             0,
             "#0d0887"
            ],
            [
             0.1111111111111111,
             "#46039f"
            ],
            [
             0.2222222222222222,
             "#7201a8"
            ],
            [
             0.3333333333333333,
             "#9c179e"
            ],
            [
             0.4444444444444444,
             "#bd3786"
            ],
            [
             0.5555555555555556,
             "#d8576b"
            ],
            [
             0.6666666666666666,
             "#ed7953"
            ],
            [
             0.7777777777777778,
             "#fb9f3a"
            ],
            [
             0.8888888888888888,
             "#fdca26"
            ],
            [
             1,
             "#f0f921"
            ]
           ],
           "sequentialminus": [
            [
             0,
             "#0d0887"
            ],
            [
             0.1111111111111111,
             "#46039f"
            ],
            [
             0.2222222222222222,
             "#7201a8"
            ],
            [
             0.3333333333333333,
             "#9c179e"
            ],
            [
             0.4444444444444444,
             "#bd3786"
            ],
            [
             0.5555555555555556,
             "#d8576b"
            ],
            [
             0.6666666666666666,
             "#ed7953"
            ],
            [
             0.7777777777777778,
             "#fb9f3a"
            ],
            [
             0.8888888888888888,
             "#fdca26"
            ],
            [
             1,
             "#f0f921"
            ]
           ]
          },
          "colorway": [
           "#636efa",
           "#EF553B",
           "#00cc96",
           "#ab63fa",
           "#FFA15A",
           "#19d3f3",
           "#FF6692",
           "#B6E880",
           "#FF97FF",
           "#FECB52"
          ],
          "font": {
           "color": "#2a3f5f"
          },
          "geo": {
           "bgcolor": "white",
           "lakecolor": "white",
           "landcolor": "#E5ECF6",
           "showlakes": true,
           "showland": true,
           "subunitcolor": "white"
          },
          "hoverlabel": {
           "align": "left"
          },
          "hovermode": "closest",
          "mapbox": {
           "style": "light"
          },
          "paper_bgcolor": "white",
          "plot_bgcolor": "#E5ECF6",
          "polar": {
           "angularaxis": {
            "gridcolor": "white",
            "linecolor": "white",
            "ticks": ""
           },
           "bgcolor": "#E5ECF6",
           "radialaxis": {
            "gridcolor": "white",
            "linecolor": "white",
            "ticks": ""
           }
          },
          "scene": {
           "xaxis": {
            "backgroundcolor": "#E5ECF6",
            "gridcolor": "white",
            "gridwidth": 2,
            "linecolor": "white",
            "showbackground": true,
            "ticks": "",
            "zerolinecolor": "white"
           },
           "yaxis": {
            "backgroundcolor": "#E5ECF6",
            "gridcolor": "white",
            "gridwidth": 2,
            "linecolor": "white",
            "showbackground": true,
            "ticks": "",
            "zerolinecolor": "white"
           },
           "zaxis": {
            "backgroundcolor": "#E5ECF6",
            "gridcolor": "white",
            "gridwidth": 2,
            "linecolor": "white",
            "showbackground": true,
            "ticks": "",
            "zerolinecolor": "white"
           }
          },
          "shapedefaults": {
           "line": {
            "color": "#2a3f5f"
           }
          },
          "ternary": {
           "aaxis": {
            "gridcolor": "white",
            "linecolor": "white",
            "ticks": ""
           },
           "baxis": {
            "gridcolor": "white",
            "linecolor": "white",
            "ticks": ""
           },
           "bgcolor": "#E5ECF6",
           "caxis": {
            "gridcolor": "white",
            "linecolor": "white",
            "ticks": ""
           }
          },
          "title": {
           "x": 0.05
          },
          "xaxis": {
           "automargin": true,
           "gridcolor": "white",
           "linecolor": "white",
           "ticks": "",
           "title": {
            "standoff": 15
           },
           "zerolinecolor": "white",
           "zerolinewidth": 2
          },
          "yaxis": {
           "automargin": true,
           "gridcolor": "white",
           "linecolor": "white",
           "ticks": "",
           "title": {
            "standoff": 15
           },
           "zerolinecolor": "white",
           "zerolinewidth": 2
          }
         }
        },
        "xaxis": {
         "anchor": "y",
         "domain": [
          0,
          1
         ],
         "title": {
          "text": "Laureados"
         }
        },
        "yaxis": {
         "anchor": "x",
         "domain": [
          0,
          1
         ],
         "title": {
          "text": "Países"
         }
        }
       }
      }
     },
     "metadata": {},
     "output_type": "display_data"
    }
   ],
   "source": [
    "#plot com o plotly com os ultimos 10 anos de 2011 ate 2021\n",
    "fig = px.bar(df10, x=\"Laureados\")\n",
    "fig.show()"
   ]
  }
 ],
 "metadata": {
  "kernelspec": {
   "display_name": "Python 3.9.13 64-bit",
   "language": "python",
   "name": "python3"
  },
  "language_info": {
   "codemirror_mode": {
    "name": "ipython",
    "version": 3
   },
   "file_extension": ".py",
   "mimetype": "text/x-python",
   "name": "python",
   "nbconvert_exporter": "python",
   "pygments_lexer": "ipython3",
   "version": "3.9.13"
  },
  "orig_nbformat": 4,
  "vscode": {
   "interpreter": {
    "hash": "5bd8ae328046729ed92bd7795ff06d640aa6e2b9cc135d81db7760942d42ded9"
   }
  }
 },
 "nbformat": 4,
 "nbformat_minor": 2
}
